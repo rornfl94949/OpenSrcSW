{
 "cells": [
  {
   "cell_type": "code",
   "execution_count": null,
   "id": "b46d49b1-536e-4743-9763-f881eb63255a",
   "metadata": {},
   "outputs": [],
   "source": [
    "class Stack:\n",
    "    def __init__(self):\n",
    "        self.list = []\n",
    "    def push(self, obj):\n",
    "        self.list.append(obj)\n",
    "    def pop(self):\n",
    "        if len(self.list) == 0:\n",
    "            print(\"Stack empty\")\n",
    "        else:\n",
    "            return self.list.pop()\n",
    "    def size(self):\n",
    "        return len(self.list)\n",
    "    def peek(self):\n",
    "        if len(self.list) == 0:\n",
    "            print(\"Stack empty\")\n",
    "        else:\n",
    "            return self.list[-1]"
   ]
  }
 ],
 "metadata": {
  "kernelspec": {
   "display_name": "Python 3",
   "language": "python",
   "name": "python3"
  },
  "language_info": {
   "codemirror_mode": {
    "name": "ipython",
    "version": 3
   },
   "file_extension": ".py",
   "mimetype": "text/x-python",
   "name": "python",
   "nbconvert_exporter": "python",
   "pygments_lexer": "ipython3",
   "version": "3.9.4"
  }
 },
 "nbformat": 4,
 "nbformat_minor": 5
}
