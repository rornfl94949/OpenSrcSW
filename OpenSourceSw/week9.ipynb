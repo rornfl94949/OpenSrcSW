{
 "cells": [
  {
   "cell_type": "code",
   "execution_count": 18,
   "id": "f17f0bd0",
   "metadata": {},
   "outputs": [
    {
     "name": "stdout",
     "output_type": "stream",
     "text": [
      "x? : 2\n",
      "y의 값은 25.00\n"
     ]
    }
   ],
   "source": [
    "#실습문제 1번\n",
    "x = float(input(\"x? : \"))\n",
    "y = 3*x**2 + 5*x +3\n",
    "str = \"y의 값은 {:.2f}\".format(y)\n",
    "print(str)"
   ]
  },
  {
   "cell_type": "code",
   "execution_count": 19,
   "id": "a936fe6d",
   "metadata": {},
   "outputs": [
    {
     "name": "stdout",
     "output_type": "stream",
     "text": [
      "반지름? : 2\n",
      "반지름이 2.00인 원의 둘레는 12.56이고 넒이는 12.56이다.\n"
     ]
    }
   ],
   "source": [
    "r = float(input(\"반지름? : \"))\n",
    "c = 2*3.14*r\n",
    "a = 3.14*r**2\n",
    "str = \"반지름이 {:.2f}인 원의 둘레는 {:.2f}이고 넒이는 {:.2f}이다.\".format(r,c,a)\n",
    "print(str)"
   ]
  }
 ],
 "metadata": {
  "kernelspec": {
   "display_name": "Python 3",
   "language": "python",
   "name": "python3"
  },
  "language_info": {
   "codemirror_mode": {
    "name": "ipython",
    "version": 3
   },
   "file_extension": ".py",
   "mimetype": "text/x-python",
   "name": "python",
   "nbconvert_exporter": "python",
   "pygments_lexer": "ipython3",
   "version": "3.9.4"
  }
 },
 "nbformat": 4,
 "nbformat_minor": 5
}
