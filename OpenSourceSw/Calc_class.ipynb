{
 "cells": [
  {
   "cell_type": "code",
   "execution_count": 2,
   "id": "c85ece75-3779-4d48-894f-67ef257092fc",
   "metadata": {},
   "outputs": [],
   "source": [
    "class Calc:\n",
    "    def sum(self, a, b):\n",
    "        result = a + b\n",
    "        str = \"{:d} + {:d} = {:d} 입니다.\".format(a,b,result)\n",
    "        print(str)\n",
    "    def sub(self, a, b):\n",
    "        result = a - b\n",
    "        str = \"{:d} - {:d} = {:d} 입니다.\".format(a,b,result)\n",
    "        print(str)\n",
    "    def multi(self, a, b):\n",
    "        result = a * b\n",
    "        str = \"{:d} * {:d} = {:d} 입니다.\".format(a,b,result)\n",
    "        print(str)\n",
    "    def divi(self, a, b):\n",
    "        result = a / b\n",
    "        str = \"{:d} / {:d} = {:.0f} 입니다.\".format(a,b,result)\n",
    "        print(str)"
   ]
  },
  {
   "cell_type": "code",
   "execution_count": null,
   "id": "67d9bc56-46d1-4069-948e-5333d47d3714",
   "metadata": {},
   "outputs": [],
   "source": []
  }
 ],
 "metadata": {
  "kernelspec": {
   "display_name": "Python 3",
   "language": "python",
   "name": "python3"
  },
  "language_info": {
   "codemirror_mode": {
    "name": "ipython",
    "version": 3
   },
   "file_extension": ".py",
   "mimetype": "text/x-python",
   "name": "python",
   "nbconvert_exporter": "python",
   "pygments_lexer": "ipython3",
   "version": "3.9.4"
  }
 },
 "nbformat": 4,
 "nbformat_minor": 5
}
