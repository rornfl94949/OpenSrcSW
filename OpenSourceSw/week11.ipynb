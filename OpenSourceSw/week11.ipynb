{
 "cells": [
  {
   "cell_type": "code",
   "execution_count": 1,
   "id": "6ea5fc3d",
   "metadata": {},
   "outputs": [],
   "source": [
    "#실습 #6: copy\n",
    "def cp(file, new_file):\n",
    "    f1 = open(file,'r')\n",
    "    f2 = open(new_file,'w')\n",
    "    lines = f1.readlines()\n",
    "    f1.close()\n",
    "    \n",
    "    for line in lines:\n",
    "        f2.write(line)\n",
    "        \n",
    "    f2.close()\n",
    "    \n",
    "cp('file1.txt','file2.txt') #테스트 구문"
   ]
  },
  {
   "cell_type": "code",
   "execution_count": 2,
   "id": "cb797013",
   "metadata": {},
   "outputs": [
    {
     "name": "stdout",
     "output_type": "stream",
     "text": [
      "file1.txt of words : 6\n",
      "file1.txt of lines : 4\n"
     ]
    }
   ],
   "source": [
    "#실습 #7: wc\n",
    "def wc(file):\n",
    "    f = open(file,'r')\n",
    "    num_l = 0\n",
    "    num_w = 0\n",
    "    lines = f.readlines()\n",
    "    f.close()\n",
    "    \n",
    "    for line in lines:\n",
    "        num_l += 1\n",
    "        words = line.split(\" \")\n",
    "        for word in words:\n",
    "            num_w += 1\n",
    "    \n",
    "    str1 = file + \" of words : {:d}\".format(num_w)\n",
    "    str2 = file + \" of lines : {:d}\".format(num_l)\n",
    "    print(str1)\n",
    "    print(str2)\n",
    "\n",
    "wc('file1.txt') # 테스트 구문\n",
    "    "
   ]
  },
  {
   "cell_type": "code",
   "execution_count": 3,
   "id": "1f8fc7f5",
   "metadata": {},
   "outputs": [
    {
     "name": "stdout",
     "output_type": "stream",
     "text": [
      "importing Jupyter notebook from Calc_class.ipynb\n",
      "1 + 2 = 3 입니다.\n",
      "5 - 1 = 4 입니다.\n",
      "2 * 3 = 6 입니다.\n",
      "6 / 2 = 3 입니다.\n"
     ]
    }
   ],
   "source": [
    "#실습 #8 : 사칙연산클래스\n",
    "import import_ipynb\n",
    "from Calc_class import Calc\n",
    "calc = Calc()\n",
    "calc.sum(1,2)\n",
    "calc.sub(5,1)\n",
    "calc.multi(2,3)\n",
    "calc.divi(6,2)"
   ]
  },
  {
   "cell_type": "code",
   "execution_count": 20,
   "id": "71539865-1fe3-4181-b11b-7d4bac66a1aa",
   "metadata": {},
   "outputs": [
    {
     "name": "stdin",
     "output_type": "stream",
     "text": [
      "계산식 입력:  1 + 2 - 3 * 4 + 5\n"
     ]
    },
    {
     "name": "stdout",
     "output_type": "stream",
     "text": [
      "계산식 출력: 1+2-3*4+5=-4\n"
     ]
    }
   ],
   "source": [
    "#실습 #9 : 계산기\n",
    "from Stack_class import Stack\n",
    "table = input(\"계산식 입력: \").split()\n",
    "NUM = Stack()\n",
    "OP = Stack()\n",
    "last = len(table)\n",
    "result = 0\n",
    "text = \"\"\n",
    "for index, i in enumerate(table):\n",
    "    if i in '-+/*':\n",
    "        if NUM.size() == 2 and OP.size() == 1: \n",
    "            if OP.peek() in '/*': # 애초에 들어있는게 * / 이면 우선순위 상관없음\n",
    "                n2 = NUM.pop()    # 1 2 순서는 계산식에서 앞에 있는걸 1로 했고 pop는 뒤부터 빼오므로 역순으로 줬다\n",
    "                n1 = NUM.pop()\n",
    "                op = OP.pop()\n",
    "                if op == '/':\n",
    "                    NUM.push(n1/n2)\n",
    "                else :\n",
    "                    NUM.push(n1*n2)\n",
    "            elif i == '-' or i == '+': # 지금 들어갈 것이 * / 이면 상황을 봐야됨 아니면 우선순위는 동일하므로 앞에것 계산\n",
    "                n2 = NUM.pop()\n",
    "                n1 = NUM.pop()\n",
    "                op = OP.pop()\n",
    "                if op == '+':\n",
    "                    NUM.push(n1+n2)\n",
    "                else :\n",
    "                    NUM.push(n1-n2)\n",
    "        OP.push(i)\n",
    "        text += str(OP.peek())\n",
    "    else :\n",
    "        NUM.push(int(i))\n",
    "        text += str(NUM.peek())\n",
    "        if NUM.size() == 3 and OP.size() == 2: #뒤의 op가 * 혹은 / 이기 때문에 이를 계산해서 넣어줌 \n",
    "            n2 = NUM.pop()\n",
    "            n1 = NUM.pop()\n",
    "            op = OP.pop()\n",
    "            if op == '/':\n",
    "                n3 = n1 / n2\n",
    "                NUM.push(n3)\n",
    "            else :\n",
    "                n3 = n1 * n2\n",
    "                NUM.push(n3)\n",
    "        if index+1 == last:\n",
    "            text += '='\n",
    "            if NUM.size() == 2 and OP.size() == 1:\n",
    "                n2 = NUM.pop()\n",
    "                n1 = NUM.pop()\n",
    "                op = OP.pop()\n",
    "                if op == '/':\n",
    "                    result = n1/n2\n",
    "                elif op == '*':\n",
    "                    result = n1*n2\n",
    "                elif op == '-':\n",
    "                    result = n1-n2\n",
    "                elif op == '+':\n",
    "                    result = n1+n2\n",
    "            else :\n",
    "                result = NUM.pop()\n",
    "            text += str(int(result))\n",
    "            \n",
    "print(\"계산식 출력: \" + text)\n",
    "        \n",
    "    \n"
   ]
  },
  {
   "cell_type": "code",
   "execution_count": null,
   "id": "243502e4-b309-4358-bccf-0d30598a8466",
   "metadata": {},
   "outputs": [],
   "source": []
  },
  {
   "cell_type": "code",
   "execution_count": null,
   "id": "df960ab3-6b58-406d-8b31-71af701fe39c",
   "metadata": {},
   "outputs": [],
   "source": []
  }
 ],
 "metadata": {
  "kernelspec": {
   "display_name": "Python 3",
   "language": "python",
   "name": "python3"
  },
  "language_info": {
   "codemirror_mode": {
    "name": "ipython",
    "version": 3
   },
   "file_extension": ".py",
   "mimetype": "text/x-python",
   "name": "python",
   "nbconvert_exporter": "python",
   "pygments_lexer": "ipython3",
   "version": "3.9.4"
  }
 },
 "nbformat": 4,
 "nbformat_minor": 5
}
