{
 "cells": [
  {
   "cell_type": "code",
   "execution_count": 20,
   "id": "f17f0bd0",
   "metadata": {},
   "outputs": [
    {
     "name": "stdout",
     "output_type": "stream",
     "text": [
      "Numbers? 10 456 87 78\n",
      "Max =  456\n"
     ]
    }
   ],
   "source": [
    "#실습2\n",
    "x = input(\"Numbers? \").split()\n",
    "index = 0\n",
    "for i in x :\n",
    "    y[index] = int(i)\n",
    "    index = index + 1\n",
    "Max = max(y)\n",
    "str = \"Max =  {:d}\".format(Max)\n",
    "print(str)"
   ]
  },
  {
   "cell_type": "code",
   "execution_count": 35,
   "id": "a936fe6d",
   "metadata": {
    "scrolled": true
   },
   "outputs": [
    {
     "name": "stdout",
     "output_type": "stream",
     "text": [
      "암호화 할 문자는? : abc def\n",
      "efg bcd \n",
      "복호화 할 문자는? : efg bcd\n",
      "abc def \n"
     ]
    }
   ],
   "source": [
    "#실습3\n",
    "x = input(\"암호화 할 문자는? : \").split()\n",
    "x.reverse()\n",
    "y = []\n",
    "for i in x :\n",
    "    str = \"\"\n",
    "    for j in i :\n",
    "        temp = ord(j)\n",
    "        str = str + chr(temp + 1)\n",
    "    y.append(str)\n",
    "str = \"\"\n",
    "for i in y :\n",
    "    str = str + i\n",
    "    str = str + \" \"\n",
    "print(str)\n",
    "x = input(\"복호화 할 문자는? : \").split()\n",
    "x.reverse()\n",
    "y = []\n",
    "for i in x :\n",
    "    str = \"\"\n",
    "    for j in i :\n",
    "        temp = ord(j)\n",
    "        str = str + chr(temp - 1)\n",
    "    y.append(str)\n",
    "str = \"\"\n",
    "for i in y :\n",
    "    str = str + i\n",
    "    str = str + \" \"\n",
    "print(str)"
   ]
  },
  {
   "cell_type": "code",
   "execution_count": 39,
   "id": "dea4ba8c",
   "metadata": {
    "scrolled": true
   },
   "outputs": [
    {
     "name": "stdout",
     "output_type": "stream",
     "text": [
      "1번째 사람의 이름과 번호는? : a 1\n",
      "2번째 사람의 이름과 번호는? : b 2\n",
      "3번째 사람의 이름과 번호는? : c 3\n",
      "4번째 사람의 이름과 번호는? : d 4\n",
      "5번째 사람의 이름과 번호는? : e 5\n",
      "6번째 사람의 이름과 번호는? : f 6\n",
      "7번째 사람의 이름과 번호는? : g 7\n",
      "8번째 사람의 이름과 번호는? : h 8\n",
      "9번째 사람의 이름과 번호는? : i 9\n",
      "10번째 사람의 이름과 번호는? : j 10\n",
      "메뉴입니다. 1. 이름 2. 번호 3. 종료 : 1\n",
      "검색하고자 하는 이름은? : a\n",
      "1\n",
      "메뉴입니다. 1. 이름 2. 번호 3. 종료 : 2\n",
      "검색하고자 하는 번호는? : 5\n",
      "e\n",
      "메뉴입니다. 1. 이름 2. 번호 3. 종료 : 1\n",
      "검색하고자 하는 이름은? : i\n",
      "9\n",
      "메뉴입니다. 1. 이름 2. 번호 3. 종료 : 3\n"
     ]
    }
   ],
   "source": [
    "#실습 4\n",
    "d = dict()\n",
    "index = 1\n",
    "for i in range(10):\n",
    "    str = \"{:d}번째 사람의 이름과 번호는? : \".format(i+1)\n",
    "    x = input(str).split()\n",
    "    d[x[0]] = x[1]\n",
    "    d[x[1]] = x[0]\n",
    "while 1 :\n",
    "    x = input(\"메뉴입니다. 1. 이름 2. 번호 3. 종료 : \")\n",
    "    if int(x) == 1:\n",
    "        y = input(\"검색하고자 하는 이름은? : \")\n",
    "        if y in d:\n",
    "            print(d.get(y))\n",
    "        else :\n",
    "            print(\"없는 이름입니다.\")\n",
    "    elif int(x) == 2:\n",
    "        y = input(\"검색하고자 하는 번호는? : \")\n",
    "        if y in d:\n",
    "            print(d.get(y))\n",
    "        else :\n",
    "            print(\"없는 번호입니다.\")\n",
    "    elif int(x) == 3:\n",
    "        break\n",
    "    else :\n",
    "        print(\"잘못치셨습니다.\")"
   ]
  },
  {
   "cell_type": "code",
   "execution_count": null,
   "id": "86358faa",
   "metadata": {},
   "outputs": [],
   "source": []
  }
 ],
 "metadata": {
  "kernelspec": {
   "display_name": "Python 3",
   "language": "python",
   "name": "python3"
  },
  "language_info": {
   "codemirror_mode": {
    "name": "ipython",
    "version": 3
   },
   "file_extension": ".py",
   "mimetype": "text/x-python",
   "name": "python",
   "nbconvert_exporter": "python",
   "pygments_lexer": "ipython3",
   "version": "3.9.4"
  }
 },
 "nbformat": 4,
 "nbformat_minor": 5
}
